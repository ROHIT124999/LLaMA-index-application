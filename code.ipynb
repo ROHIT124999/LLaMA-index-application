{
 "cells": [
  {
   "cell_type": "code",
   "execution_count": 10,
   "metadata": {},
   "outputs": [
    {
     "name": "stderr",
     "output_type": "stream",
     "text": [
      "c:\\Python312\\Lib\\site-packages\\tqdm\\auto.py:21: TqdmWarning: IProgress not found. Please update jupyter and ipywidgets. See https://ipywidgets.readthedocs.io/en/stable/user_install.html\n",
      "  from .autonotebook import tqdm as notebook_tqdm\n",
      "c:\\Python312\\Lib\\site-packages\\pydantic\\_internal\\_fields.py:151: UserWarning: Field \"model_id\" has conflict with protected namespace \"model_\".\n",
      "\n",
      "You may be able to resolve this warning by setting `model_config['protected_namespaces'] = ()`.\n",
      "  warnings.warn(\n"
     ]
    }
   ],
   "source": [
    "#using sentence_transformer lib for embedding\n",
    "from llama_index.core import VectorStoreIndex,SimpleDirectoryReader,ServiceContext,PromptTemplate\n",
    "#\n",
    "from llama_index.llms.huggingface import HuggingFaceLLM\n",
    "from transformers import pipeline, AutoTokenizer, AutoModelForCausalLM\n",
    "import torch\n",
    "import os\n",
    "from huggingface_hub import login"
   ]
  },
  {
   "cell_type": "code",
   "execution_count": 14,
   "metadata": {},
   "outputs": [
    {
     "data": {
      "text/plain": [
       "[Document(id_='f4cab3d7-6d57-483f-a221-3ed5e9fc8708', embedding=None, metadata={'page_label': '1', 'file_name': 'PhaseIPresentation.pdf', 'file_path': 'c:\\\\Users\\\\parik\\\\Music\\\\LLaMA-index-application\\\\data\\\\PhaseIPresentation.pdf', 'file_type': 'application/pdf', 'file_size': 665078, 'creation_date': '2024-06-26', 'last_modified_date': '2024-05-04'}, excluded_embed_metadata_keys=['file_name', 'file_type', 'file_size', 'creation_date', 'last_modified_date', 'last_accessed_date'], excluded_llm_metadata_keys=['file_name', 'file_type', 'file_size', 'creation_date', 'last_modified_date', 'last_accessed_date'], relationships={}, text=' Pix2Pix for Monocular Depth Estimation\\n', mimetype='text/plain', start_char_idx=None, end_char_idx=None, text_template='{metadata_str}\\n\\n{content}', metadata_template='{key}: {value}', metadata_seperator='\\n'),\n",
       " Document(id_='f95d7c56-d052-4b7d-923b-814aa63d49df', embedding=None, metadata={'page_label': '2', 'file_name': 'PhaseIPresentation.pdf', 'file_path': 'c:\\\\Users\\\\parik\\\\Music\\\\LLaMA-index-application\\\\data\\\\PhaseIPresentation.pdf', 'file_type': 'application/pdf', 'file_size': 665078, 'creation_date': '2024-06-26', 'last_modified_date': '2024-05-04'}, excluded_embed_metadata_keys=['file_name', 'file_type', 'file_size', 'creation_date', 'last_modified_date', 'last_accessed_date'], excluded_llm_metadata_keys=['file_name', 'file_type', 'file_size', 'creation_date', 'last_modified_date', 'last_accessed_date'], relationships={}, text='  2Background\\nIt’s a GAN\\n●Generator ↔ Discriminator\\n●Jittered input images\\n●Often effective with small datasets', mimetype='text/plain', start_char_idx=None, end_char_idx=None, text_template='{metadata_str}\\n\\n{content}', metadata_template='{key}: {value}', metadata_seperator='\\n'),\n",
       " Document(id_='7638d437-ffee-4e2b-8cb5-8ca1ed45ce65', embedding=None, metadata={'page_label': '3', 'file_name': 'PhaseIPresentation.pdf', 'file_path': 'c:\\\\Users\\\\parik\\\\Music\\\\LLaMA-index-application\\\\data\\\\PhaseIPresentation.pdf', 'file_type': 'application/pdf', 'file_size': 665078, 'creation_date': '2024-06-26', 'last_modified_date': '2024-05-04'}, excluded_embed_metadata_keys=['file_name', 'file_type', 'file_size', 'creation_date', 'last_modified_date', 'last_accessed_date'], excluded_llm_metadata_keys=['file_name', 'file_type', 'file_size', 'creation_date', 'last_modified_date', 'last_accessed_date'], relationships={}, text='  3Layers\\nThat’s a lot of layers!\\n●Downsampling\\n●Upsampling\\n●Skip-Connections\\nThe values deviate from the \\npaper’s C64-C128-C256-C512 \\ndue to the image size', mimetype='text/plain', start_char_idx=None, end_char_idx=None, text_template='{metadata_str}\\n\\n{content}', metadata_template='{key}: {value}', metadata_seperator='\\n'),\n",
       " Document(id_='d6278b40-81cd-4284-9e76-34796d83aeb1', embedding=None, metadata={'page_label': '4', 'file_name': 'PhaseIPresentation.pdf', 'file_path': 'c:\\\\Users\\\\parik\\\\Music\\\\LLaMA-index-application\\\\data\\\\PhaseIPresentation.pdf', 'file_type': 'application/pdf', 'file_size': 665078, 'creation_date': '2024-06-26', 'last_modified_date': '2024-05-04'}, excluded_embed_metadata_keys=['file_name', 'file_type', 'file_size', 'creation_date', 'last_modified_date', 'last_accessed_date'], excluded_llm_metadata_keys=['file_name', 'file_type', 'file_size', 'creation_date', 'last_modified_date', 'last_accessed_date'], relationships={}, text='  4Checkpoints\\nNo more lost epochs!', mimetype='text/plain', start_char_idx=None, end_char_idx=None, text_template='{metadata_str}\\n\\n{content}', metadata_template='{key}: {value}', metadata_seperator='\\n'),\n",
       " Document(id_='96137221-1855-4cc1-a61e-fb4fb3045b0e', embedding=None, metadata={'page_label': '5', 'file_name': 'PhaseIPresentation.pdf', 'file_path': 'c:\\\\Users\\\\parik\\\\Music\\\\LLaMA-index-application\\\\data\\\\PhaseIPresentation.pdf', 'file_type': 'application/pdf', 'file_size': 665078, 'creation_date': '2024-06-26', 'last_modified_date': '2024-05-04'}, excluded_embed_metadata_keys=['file_name', 'file_type', 'file_size', 'creation_date', 'last_modified_date', 'last_accessed_date'], excluded_llm_metadata_keys=['file_name', 'file_type', 'file_size', 'creation_date', 'last_modified_date', 'last_accessed_date'], relationships={}, text='  5Rendering a Point Cloud\\nJust needs a few rotations...\\n', mimetype='text/plain', start_char_idx=None, end_char_idx=None, text_template='{metadata_str}\\n\\n{content}', metadata_template='{key}: {value}', metadata_seperator='\\n'),\n",
       " Document(id_='6767fc7a-8bb1-431a-8066-7d511f0afaa7', embedding=None, metadata={'page_label': '6', 'file_name': 'PhaseIPresentation.pdf', 'file_path': 'c:\\\\Users\\\\parik\\\\Music\\\\LLaMA-index-application\\\\data\\\\PhaseIPresentation.pdf', 'file_type': 'application/pdf', 'file_size': 665078, 'creation_date': '2024-06-26', 'last_modified_date': '2024-05-04'}, excluded_embed_metadata_keys=['file_name', 'file_type', 'file_size', 'creation_date', 'last_modified_date', 'last_accessed_date'], excluded_llm_metadata_keys=['file_name', 'file_type', 'file_size', 'creation_date', 'last_modified_date', 'last_accessed_date'], relationships={}, text='  6Portable Colab Instances\\n', mimetype='text/plain', start_char_idx=None, end_char_idx=None, text_template='{metadata_str}\\n\\n{content}', metadata_template='{key}: {value}', metadata_seperator='\\n'),\n",
       " Document(id_='143669b6-7504-4957-9afe-53235423c830', embedding=None, metadata={'page_label': '7', 'file_name': 'PhaseIPresentation.pdf', 'file_path': 'c:\\\\Users\\\\parik\\\\Music\\\\LLaMA-index-application\\\\data\\\\PhaseIPresentation.pdf', 'file_type': 'application/pdf', 'file_size': 665078, 'creation_date': '2024-06-26', 'last_modified_date': '2024-05-04'}, excluded_embed_metadata_keys=['file_name', 'file_type', 'file_size', 'creation_date', 'last_modified_date', 'last_accessed_date'], excluded_llm_metadata_keys=['file_name', 'file_type', 'file_size', 'creation_date', 'last_modified_date', 'last_accessed_date'], relationships={}, text='  7Oh.\\n', mimetype='text/plain', start_char_idx=None, end_char_idx=None, text_template='{metadata_str}\\n\\n{content}', metadata_template='{key}: {value}', metadata_seperator='\\n'),\n",
       " Document(id_='17df6039-7b4f-4570-925e-575e70e6e948', embedding=None, metadata={'page_label': '8', 'file_name': 'PhaseIPresentation.pdf', 'file_path': 'c:\\\\Users\\\\parik\\\\Music\\\\LLaMA-index-application\\\\data\\\\PhaseIPresentation.pdf', 'file_type': 'application/pdf', 'file_size': 665078, 'creation_date': '2024-06-26', 'last_modified_date': '2024-05-04'}, excluded_embed_metadata_keys=['file_name', 'file_type', 'file_size', 'creation_date', 'last_modified_date', 'last_accessed_date'], excluded_llm_metadata_keys=['file_name', 'file_type', 'file_size', 'creation_date', 'last_modified_date', 'last_accessed_date'], relationships={}, text='  8PyTorch\\nIt seems like all the cool new depth estimation models use \\nPyTorch.\\n●MiDaS (2019)\\n●ZoeDepth (2023)\\n●UniDepth (2024)\\nSome of these models offer metric depth estimation', mimetype='text/plain', start_char_idx=None, end_char_idx=None, text_template='{metadata_str}\\n\\n{content}', metadata_template='{key}: {value}', metadata_seperator='\\n'),\n",
       " Document(id_='2f283704-19bf-4e8d-a989-9e32735edcf5', embedding=None, metadata={'page_label': '9', 'file_name': 'PhaseIPresentation.pdf', 'file_path': 'c:\\\\Users\\\\parik\\\\Music\\\\LLaMA-index-application\\\\data\\\\PhaseIPresentation.pdf', 'file_type': 'application/pdf', 'file_size': 665078, 'creation_date': '2024-06-26', 'last_modified_date': '2024-05-04'}, excluded_embed_metadata_keys=['file_name', 'file_type', 'file_size', 'creation_date', 'last_modified_date', 'last_accessed_date'], excluded_llm_metadata_keys=['file_name', 'file_type', 'file_size', 'creation_date', 'last_modified_date', 'last_accessed_date'], relationships={}, text='  9MiDaS?\\n', mimetype='text/plain', start_char_idx=None, end_char_idx=None, text_template='{metadata_str}\\n\\n{content}', metadata_template='{key}: {value}', metadata_seperator='\\n'),\n",
       " Document(id_='500106da-f3ce-462a-b950-0dadd340e03a', embedding=None, metadata={'page_label': '10', 'file_name': 'PhaseIPresentation.pdf', 'file_path': 'c:\\\\Users\\\\parik\\\\Music\\\\LLaMA-index-application\\\\data\\\\PhaseIPresentation.pdf', 'file_type': 'application/pdf', 'file_size': 665078, 'creation_date': '2024-06-26', 'last_modified_date': '2024-05-04'}, excluded_embed_metadata_keys=['file_name', 'file_type', 'file_size', 'creation_date', 'last_modified_date', 'last_accessed_date'], excluded_llm_metadata_keys=['file_name', 'file_type', 'file_size', 'creation_date', 'last_modified_date', 'last_accessed_date'], relationships={}, text='  10The data must be cleaned\\nMight be the hardest part of Phase II\\n●Dimensions\\n●Planar Distortion\\n●Not Phong shaded\\nIt’s not gonna be pretty.', mimetype='text/plain', start_char_idx=None, end_char_idx=None, text_template='{metadata_str}\\n\\n{content}', metadata_template='{key}: {value}', metadata_seperator='\\n'),\n",
       " Document(id_='1b236f85-6d1d-4024-9cb2-bdb5c61a22ea', embedding=None, metadata={'page_label': '11', 'file_name': 'PhaseIPresentation.pdf', 'file_path': 'c:\\\\Users\\\\parik\\\\Music\\\\LLaMA-index-application\\\\data\\\\PhaseIPresentation.pdf', 'file_type': 'application/pdf', 'file_size': 665078, 'creation_date': '2024-06-26', 'last_modified_date': '2024-05-04'}, excluded_embed_metadata_keys=['file_name', 'file_type', 'file_size', 'creation_date', 'last_modified_date', 'last_accessed_date'], excluded_llm_metadata_keys=['file_name', 'file_type', 'file_size', 'creation_date', 'last_modified_date', 'last_accessed_date'], relationships={}, text='  11Thank you!\\nFeel free to check out my Pix2Pix .ipynb at:\\nhttp://daniel.win/pix2pix.ipynb\\n', mimetype='text/plain', start_char_idx=None, end_char_idx=None, text_template='{metadata_str}\\n\\n{content}', metadata_template='{key}: {value}', metadata_seperator='\\n')]"
      ]
     },
     "execution_count": 14,
     "metadata": {},
     "output_type": "execute_result"
    }
   ],
   "source": [
    "docs = SimpleDirectoryReader(\"data\").load_data()\n",
    "docs"
   ]
  },
  {
   "cell_type": "code",
   "execution_count": null,
   "metadata": {},
   "outputs": [],
   "source": []
  }
 ],
 "metadata": {
  "kernelspec": {
   "display_name": "Python 3",
   "language": "python",
   "name": "python3"
  },
  "language_info": {
   "codemirror_mode": {
    "name": "ipython",
    "version": 3
   },
   "file_extension": ".py",
   "mimetype": "text/x-python",
   "name": "python",
   "nbconvert_exporter": "python",
   "pygments_lexer": "ipython3",
   "version": "3.12.3"
  }
 },
 "nbformat": 4,
 "nbformat_minor": 2
}
